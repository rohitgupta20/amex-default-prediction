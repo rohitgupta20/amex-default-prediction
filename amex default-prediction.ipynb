{
 "cells": [
  {
   "cell_type": "markdown",
   "metadata": {},
   "source": [
    "# AMEX Default-prediction"
   ]
  },
  {
   "cell_type": "code",
   "execution_count": null,
   "metadata": {},
   "outputs": [],
   "source": [
    "import pandas as pd"
   ]
  },
  {
   "cell_type": "code",
   "execution_count": null,
   "metadata": {},
   "outputs": [],
   "source": [
    "df = pd.read_csv('train_data.csv',nrows=10000,parse_dates=[\"S_2\"])\n",
    "\n",
    "df.head()"
   ]
  },
  {
   "cell_type": "code",
   "execution_count": null,
   "metadata": {},
   "outputs": [],
   "source": [
    "\n",
    "df.columns.values"
   ]
  },
  {
   "cell_type": "code",
   "execution_count": null,
   "metadata": {},
   "outputs": [],
   "source": [
    "df.info(verbose=True,null_counts=True)"
   ]
  },
  {
   "cell_type": "code",
   "execution_count": null,
   "metadata": {},
   "outputs": [],
   "source": [
    "df.describe()"
   ]
  },
  {
   "cell_type": "code",
   "execution_count": null,
   "metadata": {},
   "outputs": [],
   "source": [
    "df.shape"
   ]
  },
  {
   "cell_type": "code",
   "execution_count": null,
   "metadata": {},
   "outputs": [],
   "source": [
    "df.isnull().sum().values"
   ]
  },
  {
   "cell_type": "code",
   "execution_count": null,
   "metadata": {},
   "outputs": [],
   "source": [
    "[features for features in df.columns if df[features].isnull().sum()>0]"
   ]
  },
  {
   "cell_type": "code",
   "execution_count": null,
   "metadata": {},
   "outputs": [],
   "source": [
    "import seaborn as sns\n",
    "sns.heatmap(df.isnull(),yticklabels=False,cbar=False,cmap='viridis')"
   ]
  },
  {
   "cell_type": "code",
   "execution_count": null,
   "metadata": {},
   "outputs": [],
   "source": [
    "df.duplicated()==False\n"
   ]
  },
  {
   "cell_type": "code",
   "execution_count": null,
   "metadata": {},
   "outputs": [],
   "source": [
    "df_label = pd.read_csv('train_labels.csv',nrows=10000)\n",
    "df_label.head()"
   ]
  },
  {
   "cell_type": "code",
   "execution_count": null,
   "metadata": {},
   "outputs": [],
   "source": [
    "df_label['target'].value_counts()"
   ]
  },
  {
   "cell_type": "code",
   "execution_count": null,
   "metadata": {},
   "outputs": [],
   "source": [
    "final_df = pd.merge(df,df_label,on='customer_ID',how='left')"
   ]
  },
  {
   "cell_type": "code",
   "execution_count": null,
   "metadata": {},
   "outputs": [],
   "source": [
    "final_df['target'].value_counts()"
   ]
  },
  {
   "cell_type": "code",
   "execution_count": 74,
   "metadata": {},
   "outputs": [
    {
     "data": {
      "text/plain": [
       "10000"
      ]
     },
     "execution_count": 74,
     "metadata": {},
     "output_type": "execute_result"
    }
   ],
   "source": [
    "len(final_df)"
   ]
  },
  {
   "cell_type": "code",
   "execution_count": 75,
   "metadata": {},
   "outputs": [
    {
     "name": "stdout",
     "output_type": "stream",
     "text": [
      "<class 'pandas.core.frame.DataFrame'>\n",
      "Int64Index: 10000 entries, 0 to 9999\n",
      "Data columns (total 191 columns):\n",
      " #    Column       Non-Null Count  Dtype         \n",
      "---   ------       --------------  -----         \n",
      " 0    customer_ID  10000 non-null  object        \n",
      " 1    S_2          10000 non-null  datetime64[ns]\n",
      " 2    P_2          9936 non-null   float64       \n",
      " 3    D_39         10000 non-null  float64       \n",
      " 4    B_1          10000 non-null  float64       \n",
      " 5    B_2          10000 non-null  float64       \n",
      " 6    R_1          10000 non-null  float64       \n",
      " 7    S_3          8248 non-null   float64       \n",
      " 8    D_41         10000 non-null  float64       \n",
      " 9    B_3          10000 non-null  float64       \n",
      " 10   D_42         1355 non-null   float64       \n",
      " 11   D_43         6913 non-null   float64       \n",
      " 12   D_44         9505 non-null   float64       \n",
      " 13   B_4          10000 non-null  float64       \n",
      " 14   D_45         10000 non-null  float64       \n",
      " 15   B_5          10000 non-null  float64       \n",
      " 16   R_2          10000 non-null  float64       \n",
      " 17   D_46         7709 non-null   float64       \n",
      " 18   D_47         10000 non-null  float64       \n",
      " 19   D_48         8697 non-null   float64       \n",
      " 20   D_49         1104 non-null   float64       \n",
      " 21   B_6          10000 non-null  float64       \n",
      " 22   B_7          10000 non-null  float64       \n",
      " 23   B_8          9959 non-null   float64       \n",
      " 24   D_50         4707 non-null   float64       \n",
      " 25   D_51         10000 non-null  float64       \n",
      " 26   B_9          10000 non-null  float64       \n",
      " 27   R_3          10000 non-null  float64       \n",
      " 28   D_52         9961 non-null   float64       \n",
      " 29   P_3          9488 non-null   float64       \n",
      " 30   B_10         10000 non-null  float64       \n",
      " 31   D_53         2733 non-null   float64       \n",
      " 32   S_5          10000 non-null  float64       \n",
      " 33   B_11         10000 non-null  float64       \n",
      " 34   S_6          10000 non-null  float64       \n",
      " 35   D_54         10000 non-null  float64       \n",
      " 36   R_4          10000 non-null  float64       \n",
      " 37   S_7          8248 non-null   float64       \n",
      " 38   B_12         10000 non-null  float64       \n",
      " 39   S_8          10000 non-null  float64       \n",
      " 40   D_55         9703 non-null   float64       \n",
      " 41   D_56         4836 non-null   float64       \n",
      " 42   B_13         9916 non-null   float64       \n",
      " 43   R_5          10000 non-null  float64       \n",
      " 44   D_58         10000 non-null  float64       \n",
      " 45   S_9          4706 non-null   float64       \n",
      " 46   B_14         10000 non-null  float64       \n",
      " 47   D_59         9829 non-null   float64       \n",
      " 48   D_60         10000 non-null  float64       \n",
      " 49   D_61         8886 non-null   float64       \n",
      " 50   B_15         9987 non-null   float64       \n",
      " 51   S_11         10000 non-null  float64       \n",
      " 52   D_62         8574 non-null   float64       \n",
      " 53   D_63         10000 non-null  object        \n",
      " 54   D_64         9656 non-null   object        \n",
      " 55   D_65         10000 non-null  float64       \n",
      " 56   B_16         10000 non-null  float64       \n",
      " 57   B_17         4554 non-null   float64       \n",
      " 58   B_18         10000 non-null  float64       \n",
      " 59   B_19         10000 non-null  float64       \n",
      " 60   D_66         1133 non-null   float64       \n",
      " 61   B_20         10000 non-null  float64       \n",
      " 62   D_68         9671 non-null   float64       \n",
      " 63   S_12         10000 non-null  float64       \n",
      " 64   R_6          10000 non-null  float64       \n",
      " 65   S_13         10000 non-null  float64       \n",
      " 66   B_21         10000 non-null  float64       \n",
      " 67   D_69         9679 non-null   float64       \n",
      " 68   B_22         10000 non-null  float64       \n",
      " 69   D_70         9858 non-null   float64       \n",
      " 70   D_71         10000 non-null  float64       \n",
      " 71   D_72         9968 non-null   float64       \n",
      " 72   S_15         10000 non-null  float64       \n",
      " 73   B_23         10000 non-null  float64       \n",
      " 74   D_73         74 non-null     float64       \n",
      " 75   P_4          10000 non-null  float64       \n",
      " 76   D_74         9984 non-null   float64       \n",
      " 77   D_75         10000 non-null  float64       \n",
      " 78   D_76         1024 non-null   float64       \n",
      " 79   B_24         10000 non-null  float64       \n",
      " 80   R_7          10000 non-null  float64       \n",
      " 81   D_77         5306 non-null   float64       \n",
      " 82   B_25         9987 non-null   float64       \n",
      " 83   B_26         10000 non-null  float64       \n",
      " 84   D_78         9505 non-null   float64       \n",
      " 85   D_79         9900 non-null   float64       \n",
      " 86   R_8          10000 non-null  float64       \n",
      " 87   R_9          644 non-null    float64       \n",
      " 88   S_16         10000 non-null  float64       \n",
      " 89   D_80         9984 non-null   float64       \n",
      " 90   R_10         10000 non-null  float64       \n",
      " 91   R_11         10000 non-null  float64       \n",
      " 92   B_27         10000 non-null  float64       \n",
      " 93   D_81         9963 non-null   float64       \n",
      " 94   D_82         2832 non-null   float64       \n",
      " 95   S_17         10000 non-null  float64       \n",
      " 96   R_12         10000 non-null  float64       \n",
      " 97   B_28         10000 non-null  float64       \n",
      " 98   R_13         10000 non-null  float64       \n",
      " 99   D_83         9679 non-null   float64       \n",
      " 100  R_14         10000 non-null  float64       \n",
      " 101  R_15         10000 non-null  float64       \n",
      " 102  D_84         9961 non-null   float64       \n",
      " 103  R_16         10000 non-null  float64       \n",
      " 104  B_29         661 non-null    float64       \n",
      " 105  B_30         10000 non-null  float64       \n",
      " 106  S_18         10000 non-null  float64       \n",
      " 107  D_86         10000 non-null  float64       \n",
      " 108  D_87         10 non-null     float64       \n",
      " 109  R_17         10000 non-null  float64       \n",
      " 110  R_18         10000 non-null  float64       \n",
      " 111  D_88         20 non-null     float64       \n",
      " 112  B_31         10000 non-null  int64         \n",
      " 113  S_19         10000 non-null  float64       \n",
      " 114  R_19         10000 non-null  float64       \n",
      " 115  B_32         10000 non-null  float64       \n",
      " 116  S_20         10000 non-null  float64       \n",
      " 117  R_20         9999 non-null   float64       \n",
      " 118  R_21         10000 non-null  float64       \n",
      " 119  B_33         10000 non-null  float64       \n",
      " 120  D_89         9961 non-null   float64       \n",
      " 121  R_22         10000 non-null  float64       \n",
      " 122  R_23         10000 non-null  float64       \n",
      " 123  D_91         9740 non-null   float64       \n",
      " 124  D_92         10000 non-null  float64       \n",
      " 125  D_93         10000 non-null  float64       \n",
      " 126  D_94         10000 non-null  float64       \n",
      " 127  R_24         10000 non-null  float64       \n",
      " 128  R_25         10000 non-null  float64       \n",
      " 129  D_96         10000 non-null  float64       \n",
      " 130  S_22         9966 non-null   float64       \n",
      " 131  S_23         9999 non-null   float64       \n",
      " 132  S_24         9966 non-null   float64       \n",
      " 133  S_25         9970 non-null   float64       \n",
      " 134  S_26         9998 non-null   float64       \n",
      " 135  D_102        9937 non-null   float64       \n",
      " 136  D_103        9847 non-null   float64       \n",
      " 137  D_104        9847 non-null   float64       \n",
      " 138  D_105        4477 non-null   float64       \n",
      " 139  D_106        1095 non-null   float64       \n",
      " 140  D_107        9847 non-null   float64       \n",
      " 141  B_36         10000 non-null  float64       \n",
      " 142  B_37         10000 non-null  float64       \n",
      " 143  R_26         1215 non-null   float64       \n",
      " 144  R_27         9760 non-null   float64       \n",
      " 145  B_38         10000 non-null  float64       \n",
      " 146  D_108        56 non-null     float64       \n",
      " 147  D_109        9998 non-null   float64       \n",
      " 148  D_110        25 non-null     float64       \n",
      " 149  D_111        25 non-null     float64       \n",
      " 150  B_39         28 non-null     float64       \n",
      " 151  D_112        9998 non-null   float64       \n",
      " 152  B_40         10000 non-null  float64       \n",
      " 153  S_27         7578 non-null   float64       \n",
      " 154  D_113        9706 non-null   float64       \n",
      " 155  D_114        9706 non-null   float64       \n",
      " 156  D_115        9706 non-null   float64       \n",
      " 157  D_116        9706 non-null   float64       \n",
      " 158  D_117        9706 non-null   float64       \n",
      " 159  D_118        9706 non-null   float64       \n",
      " 160  D_119        9706 non-null   float64       \n",
      " 161  D_120        9706 non-null   float64       \n",
      " 162  D_121        9706 non-null   float64       \n",
      " 163  D_122        9706 non-null   float64       \n",
      " 164  D_123        9706 non-null   float64       \n",
      " 165  D_124        9706 non-null   float64       \n",
      " 166  D_125        9706 non-null   float64       \n",
      " 167  D_126        9800 non-null   float64       \n",
      " 168  D_127        10000 non-null  float64       \n",
      " 169  D_128        9847 non-null   float64       \n",
      " 170  D_129        9847 non-null   float64       \n",
      " 171  B_41         9998 non-null   float64       \n",
      " 172  B_42         169 non-null    float64       \n",
      " 173  D_130        9847 non-null   float64       \n",
      " 174  D_131        9847 non-null   float64       \n",
      " 175  D_132        1095 non-null   float64       \n",
      " 176  D_133        9931 non-null   float64       \n",
      " 177  R_28         10000 non-null  float64       \n",
      " 178  D_134        372 non-null    float64       \n",
      " 179  D_135        372 non-null    float64       \n",
      " 180  D_136        372 non-null    float64       \n",
      " 181  D_137        372 non-null    float64       \n",
      " 182  D_138        372 non-null    float64       \n",
      " 183  D_139        9847 non-null   float64       \n",
      " 184  D_140        9937 non-null   float64       \n",
      " 185  D_141        9847 non-null   float64       \n",
      " 186  D_142        1572 non-null   float64       \n",
      " 187  D_143        9847 non-null   float64       \n",
      " 188  D_144        9937 non-null   float64       \n",
      " 189  D_145        9847 non-null   float64       \n",
      " 190  target       10000 non-null  int64         \n",
      "dtypes: datetime64[ns](1), float64(185), int64(2), object(3)\n",
      "memory usage: 14.6+ MB\n"
     ]
    }
   ],
   "source": [
    "final_df.info(verbose=True, show_counts=True)"
   ]
  },
  {
   "cell_type": "code",
   "execution_count": 76,
   "metadata": {},
   "outputs": [
    {
     "data": {
      "text/plain": [
       "Text(0, 0.5, 'Target')"
      ]
     },
     "execution_count": 76,
     "metadata": {},
     "output_type": "execute_result"
    },
    {
     "data": {
      "image/png": "[encoded data removed]",
      "text/plain": [
       "<Figure size 640x480 with 1 Axes>"
      ]
     },
     "metadata": {},
     "output_type": "display_data"
    }
   ],
   "source": [
    "import matplotlib.pyplot as plt\n",
    "fig,ax = plt.subplots()\n",
    "ax.scatter(final_df['S_2'][:1000],final_df['target'][:1000])\n",
    "plt.xlabel('Transaction Date')\n",
    "plt.ylabel('Target')"
   ]
  },
  {
   "cell_type": "code",
   "execution_count": 77,
   "metadata": {},
   "outputs": [
    {
     "data": {
      "text/plain": [
       "0   2017-03-09\n",
       "1   2017-04-07\n",
       "2   2017-05-28\n",
       "3   2017-06-13\n",
       "4   2017-07-16\n",
       "Name: S_2, dtype: datetime64[ns]"
      ]
     },
     "execution_count": 77,
     "metadata": {},
     "output_type": "execute_result"
    }
   ],
   "source": [
    "final_df.S_2.head()"
   ]
  },
  {
   "cell_type": "code",
   "execution_count": 78,
   "metadata": {},
   "outputs": [
    {
     "data": {
      "text/plain": [
       "array(['customer_ID', 'S_2', 'P_2', 'D_39', 'B_1', 'B_2', 'R_1', 'S_3',\n",
       "       'D_41', 'B_3', 'D_42', 'D_43', 'D_44', 'B_4', 'D_45', 'B_5', 'R_2',\n",
       "       'D_46', 'D_47', 'D_48', 'D_49', 'B_6', 'B_7', 'B_8', 'D_50',\n",
       "       'D_51', 'B_9', 'R_3', 'D_52', 'P_3', 'B_10', 'D_53', 'S_5', 'B_11',\n",
       "       'S_6', 'D_54', 'R_4', 'S_7', 'B_12', 'S_8', 'D_55', 'D_56', 'B_13',\n",
       "       'R_5', 'D_58', 'S_9', 'B_14', 'D_59', 'D_60', 'D_61', 'B_15',\n",
       "       'S_11', 'D_62', 'D_63', 'D_64', 'D_65', 'B_16', 'B_17', 'B_18',\n",
       "       'B_19', 'D_66', 'B_20', 'D_68', 'S_12', 'R_6', 'S_13', 'B_21',\n",
       "       'D_69', 'B_22', 'D_70', 'D_71', 'D_72', 'S_15', 'B_23', 'D_73',\n",
       "       'P_4', 'D_74', 'D_75', 'D_76', 'B_24', 'R_7', 'D_77', 'B_25',\n",
       "       'B_26', 'D_78', 'D_79', 'R_8', 'R_9', 'S_16', 'D_80', 'R_10',\n",
       "       'R_11', 'B_27', 'D_81', 'D_82', 'S_17', 'R_12', 'B_28', 'R_13',\n",
       "       'D_83', 'R_14', 'R_15', 'D_84', 'R_16', 'B_29', 'B_30', 'S_18',\n",
       "       'D_86', 'D_87', 'R_17', 'R_18', 'D_88', 'B_31', 'S_19', 'R_19',\n",
       "       'B_32', 'S_20', 'R_20', 'R_21', 'B_33', 'D_89', 'R_22', 'R_23',\n",
       "       'D_91', 'D_92', 'D_93', 'D_94', 'R_24', 'R_25', 'D_96', 'S_22',\n",
       "       'S_23', 'S_24', 'S_25', 'S_26', 'D_102', 'D_103', 'D_104', 'D_105',\n",
       "       'D_106', 'D_107', 'B_36', 'B_37', 'R_26', 'R_27', 'B_38', 'D_108',\n",
       "       'D_109', 'D_110', 'D_111', 'B_39', 'D_112', 'B_40', 'S_27',\n",
       "       'D_113', 'D_114', 'D_115', 'D_116', 'D_117', 'D_118', 'D_119',\n",
       "       'D_120', 'D_121', 'D_122', 'D_123', 'D_124', 'D_125', 'D_126',\n",
       "       'D_127', 'D_128', 'D_129', 'B_41', 'B_42', 'D_130', 'D_131',\n",
       "       'D_132', 'D_133', 'R_28', 'D_134', 'D_135', 'D_136', 'D_137',\n",
       "       'D_138', 'D_139', 'D_140', 'D_141', 'D_142', 'D_143', 'D_144',\n",
       "       'D_145', 'target'], dtype=object)"
      ]
     },
     "execution_count": 78,
     "metadata": {},
     "output_type": "execute_result"
    }
   ],
   "source": [
    "final_df.columns.values"
   ]
  },
  {
   "cell_type": "markdown",
   "metadata": {},
   "source": [
    "The dataset contains aggregated profile features for each customer at each statement date. Features are anonymized and normalized, and fall into the following general categories:\n",
    "\n",
    "D_* = Delinquency variables\n",
    "S_* = Spend variables\n",
    "P_* = Payment variables\n",
    "B_* = Balance variables\n",
    "R_* = Risk variables\n",
    "\n",
    "with the following features being categorical:\n",
    "\n",
    "['B_30', 'B_38', 'D_114', 'D_116', 'D_117', 'D_120', 'D_126', 'D_63', 'D_64', 'D_66', 'D_68']"
   ]
  },
  {
   "cell_type": "code",
   "execution_count": 79,
   "metadata": {},
   "outputs": [
    {
     "data": {
      "text/plain": [
       "<matplotlib.axes._subplots.AxesSubplot at 0x1af9f34e508>"
      ]
     },
     "execution_count": 79,
     "metadata": {},
     "output_type": "execute_result"
    },
    {
     "data": {
      "image/png": "[encoded data removed]",
      "text/plain": [
       "<Figure size 640x480 with 1 Axes>"
      ]
     },
     "metadata": {},
     "output_type": "display_data"
    }
   ],
   "source": [
    "import seaborn as sns\n",
    "sns.scatterplot(final_df['P_2'],final_df['target'])"
   ]
  },
  {
   "cell_type": "code",
   "execution_count": 80,
   "metadata": {},
   "outputs": [
    {
     "data": {
      "text/plain": [
       "0.0    8411\n",
       "1.0    1474\n",
       "2.0     115\n",
       "Name: B_30, dtype: int64"
      ]
     },
     "execution_count": 80,
     "metadata": {},
     "output_type": "execute_result"
    }
   ],
   "source": [
    "final_df['B_30'].value_counts()"
   ]
  },
  {
   "cell_type": "code",
   "execution_count": 81,
   "metadata": {},
   "outputs": [
    {
     "data": {
      "text/plain": [
       "<matplotlib.axes._subplots.AxesSubplot at 0x1af9f3ea148>"
      ]
     },
     "execution_count": 81,
     "metadata": {},
     "output_type": "execute_result"
    },
    {
     "data": {
      "image/png": "[encoded data removed]",
      "text/plain": [
       "<Figure size 640x480 with 1 Axes>"
      ]
     },
     "metadata": {},
     "output_type": "display_data"
    }
   ],
   "source": [
    "sns.distplot(final_df['D_46'])"
   ]
  },
  {
   "cell_type": "code",
   "execution_count": 82,
   "metadata": {},
   "outputs": [
    {
     "data": {
      "text/plain": [
       "B_30     category\n",
       "B_38     category\n",
       "D_63     category\n",
       "D_64     category\n",
       "D_66     category\n",
       "D_68     category\n",
       "D_114    category\n",
       "D_116    category\n",
       "D_117    category\n",
       "D_120    category\n",
       "D_126    category\n",
       "dtype: object"
      ]
     },
     "execution_count": 82,
     "metadata": {},
     "output_type": "execute_result"
    }
   ],
   "source": [
    "# changing dtype of categorical features into category\n",
    "categorical_features = ['B_30','B_38','D_63','D_64','D_66','D_68','D_114','D_116','D_117','D_120','D_126']\n",
    "final_df[categorical_features] = final_df[categorical_features].astype('category')\n",
    "final_df[categorical_features].dtypes"
   ]
  },
  {
   "cell_type": "code",
   "execution_count": 87,
   "metadata": {},
   "outputs": [
    {
     "data": {
      "image/png": "[encoded data removed]",
      "text/plain": [
       "<Figure size 500x200 with 1 Axes>"
      ]
     },
     "metadata": {},
     "output_type": "display_data"
    }
   ],
   "source": [
    "import matplotlib as mpl\n",
    "import numpy as np\n",
    "mpl.rcParams.update(mpl.rcParamsDefault) # recover matplotlib defaults after setting stylesheets\n",
    "\n",
    "data = final_df\n",
    "df_dtypes = final_df.dtypes.value_counts()\n",
    "\n",
    "\n",
    "fig = plt.figure(figsize=(5,2),facecolor='white')\n",
    "\n",
    "ax = fig.add_subplot(1,1,1)\n",
    "font = 'monospace'\n",
    "\n",
    "ax.text(1,0.8,\"key figures\", color=\"black\", fontsize=28,fontweight='bold',fontfamily=font,ha='center')\n",
    "ax.text(0,0.4,\"{:d}\".format(data.shape[0]),color='#fcba03',fontsize=24,fontweight='bold',fontfamily=font,ha='center')\n",
    "\n",
    "ax.text(0,0.001,\"# of rows \\nin the dataset\",color='dimgrey',fontsize=15,fontweight='light',fontfamily=font,ha='center')\n",
    "ax.text(0.6,0.4,\"{}\".format(data.shape[1]),color=\"#fcba03\",fontsize=24,fontweight='bold',fontfamily=font,ha='center')\n",
    "\n",
    "ax.text(0.6,0.001,\"# of features \\nin the dataset\",color='dimgrey',fontsize=15,fontweight='light',fontfamily=font,\n",
    "        ha='center')\n",
    "ax.text(1.2,0.4,'{}'.format(len(data.select_dtypes(np.number).columns)),color='#fcba03',fontsize=24,fontweight='bold',\n",
    "       fontfamily=font,ha='center')\n",
    "ax.text(1.2, 0.001, \"# of numeric columns \\nin the dataset\",color='dimgrey',\n",
    "        fontsize=15, fontweight='light', fontfamily=font, ha='center')\n",
    "\n",
    "ax.text(1.9, 0.4,\"{}\".format(len(data.select_dtypes('datetime64[ns]').columns)), color='#fcba03', fontsize=24,\n",
    "        fontweight='bold', fontfamily=font, ha='center')\n",
    "ax.text(1.9,0.001,\"# of datetime columns \\nin the dataset\", color='dimgray',fontsize=15,fontweight='bold',\n",
    "        fontfamily=font,ha='center')\n",
    "\n",
    "ax.set_yticklabels('')\n",
    "ax.tick_params(axis='y',length=0)\n",
    "ax.tick_params(axis='x',length=0)\n",
    "ax.set_xticklabels('')\n",
    "\n",
    "for direction in ['top','right','left','bottom']:\n",
    "    ax.spines[direction].set_visible(False)\n",
    "    \n",
    "fig.subplots_adjust(top=0.9,bottom=0.2,left=0,hspace=1)\n",
    "\n",
    "fig.patch.set_linewidth(5)\n",
    "fig.patch.set_edgecolor('#346eeb')\n",
    "fig.patch.set_facecolor('#f6f6f6')\n",
    "fig.set_facecolor('#f6f6f6')\n",
    "\n",
    "plt.show()"
   ]
  },
  {
   "cell_type": "code",
   "execution_count": null,
   "metadata": {},
   "outputs": [],
   "source": []
  }
 ],
 "metadata": {
  "kernelspec": {
   "display_name": "Python 3",
   "language": "python",
   "name": "python3"
  },
  "language_info": {
   "codemirror_mode": {
    "name": "ipython",
    "version": 3
   },
   "file_extension": ".py",
   "mimetype": "text/x-python",
   "name": "python",
   "nbconvert_exporter": "python",
   "pygments_lexer": "ipython3",
   "version": "3.7.6"
  }
 },
 "nbformat": 4,
 "nbformat_minor": 4
}
